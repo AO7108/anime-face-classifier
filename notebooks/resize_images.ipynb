{
 "cells": [
  {
   "cell_type": "code",
   "execution_count": null,
   "id": "d31172b5",
   "metadata": {},
   "outputs": [
    {
     "name": "stdout",
     "output_type": "stream",
     "text": [
      "✅ Done! New shape: (120, 128, 128, 3)\n"
     ]
    }
   ],
   "source": [
    "import numpy as np # 512X512 to 128X128\n",
    "from PIL import Image\n",
    "import os\n",
    "\n",
    "# Load existing X_data\n",
    "X_data = np.load(\"../data/X_anime.npy\")\n",
    "\n",
    "# Resize each image\n",
    "X_resized = []\n",
    "\n",
    "for img in X_data:\n",
    "    resized_img = Image.fromarray((img * 255).astype(np.uint8)).resize((128, 128))\n",
    "    X_resized.append(np.array(resized_img))\n",
    "\n",
    "X_resized = np.array(X_resized)\n",
    "\n",
    "# Save resized data\n",
    "np.save(\"../data/X_anime_128.npy\", X_resized)\n",
    "\n",
    "print(\"✅ Done! New shape:\", X_resized.shape)"
   ]
  },
  {
   "cell_type": "code",
   "execution_count": 2,
   "id": "1e0059f1",
   "metadata": {},
   "outputs": [
    {
     "name": "stdout",
     "output_type": "stream",
     "text": [
      "✅ Labels created: (120,)\n",
      "First 10 labels: [0 0 0 0 0 0 0 0 0 0]\n",
      "Last 10 labels: [1 1 1 1 1 1 1 1 1 1]\n"
     ]
    }
   ],
   "source": [
    "import numpy as np #creating real labels not dummy ones with 0 only , in this 60 pictures will be 0 and 60 be 1 , with this real classificcation happens as before it was fake accuracy and model was actually not learning anything , we made it before to check cnn architecture \n",
    "\n",
    "# 60 samples per class (just a simulation for now)\n",
    "y_real = np.array([0]*60 + [1]*60)\n",
    "\n",
    "# Save it\n",
    "np.save(\"../data/y_anime_2class.npy\", y_real)\n",
    "\n",
    "print(\"✅ Labels created:\", y_real.shape)\n",
    "print(\"First 10 labels:\", y_real[:10])\n",
    "print(\"Last 10 labels:\", y_real[-10:])"
   ]
  },
  {
   "cell_type": "code",
   "execution_count": null,
   "id": "0ff89523",
   "metadata": {},
   "outputs": [],
   "source": [
    "#we retrain cnn with real labels and few improvements in cnn_model notebook\n"
   ]
  }
 ],
 "metadata": {
  "kernelspec": {
   "display_name": ".venv",
   "language": "python",
   "name": "python3"
  },
  "language_info": {
   "codemirror_mode": {
    "name": "ipython",
    "version": 3
   },
   "file_extension": ".py",
   "mimetype": "text/x-python",
   "name": "python",
   "nbconvert_exporter": "python",
   "pygments_lexer": "ipython3",
   "version": "3.10.9"
  }
 },
 "nbformat": 4,
 "nbformat_minor": 5
}
